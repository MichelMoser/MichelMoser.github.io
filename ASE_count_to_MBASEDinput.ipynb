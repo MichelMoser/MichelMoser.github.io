{
 "cells": [
  {
   "cell_type": "code",
   "execution_count": 2,
   "metadata": {
    "collapsed": false
   },
   "outputs": [
    {
     "name": "stdout",
     "output_type": "stream",
     "text": [
      "Populating the interactive namespace from numpy and matplotlib\n"
     ]
    },
    {
     "name": "stderr",
     "output_type": "stream",
     "text": [
      "/home/mmoser/anaconda3/lib/python2.7/site-packages/IPython/core/magics/pylab.py:161: UserWarning: pylab import has clobbered these variables: ['types', 'datetime', 'test', 'chisquare', 'unique', 'info']\n",
      "`%matplotlib` prevents importing * from pylab and numpy\n",
      "  \"\\n`%matplotlib` prevents importing * from pylab and numpy\"\n"
     ]
    }
   ],
   "source": [
    "%pylab inline\n",
    "import os\n",
    "import pandas as pd\n",
    "import numpy as np\n",
    "import matplotlib.pyplot as plt\n",
    "from pandas import *\n",
    "import collections\n",
    "from collections import defaultdict\n",
    "from __future__ import division\n",
    "from collections import Counter\n",
    "from scipy.stats.mstats import chisquare"
   ]
  },
  {
   "cell_type": "markdown",
   "metadata": {
    "collapsed": false
   },
   "source": [
    "\n",
    "# parse ASE read counts for analysis with MBASED: \n",
    "\n",
    "Take only first 8 columns of file as rest is empty\n",
    "\n",
    "cut -f 1-8 ASE.counts > ASE.counts.short\n",
    "\n",
    "## Synchronize the ASE.counts.short files:"
   ]
  },
  {
   "cell_type": "code",
   "execution_count": 5,
   "metadata": {
    "collapsed": true
   },
   "outputs": [],
   "source": [
    "ASErep1 = \"/home/moser/RNA-seq/2015/ASE/ASE_countsF1Paxi_Pinf_limb/Peax162.RNA2015.25.gsnap.s.bam_23.01.2017.1mioSNP.ase.counts\"\n",
    "ASErep2 = \"/home/moser/RNA-seq/2015/ASE/ASE_countsF1Paxi_Pinf_limb/Peax162.RNA2015.26.gsnap.s.bam_23.01.2017.1mioSNP.ase.counts\"\n",
    "ASErep3 = \"/home/moser/RNA-seq/2015/ASE/ASE_countsF1Paxi_Pinf_limb/Peax162.RNA2015.27.gsnap.s.bam_23.01.2017.1mioSNP.ase.counts\""
   ]
  },
  {
   "cell_type": "code",
   "execution_count": 6,
   "metadata": {
    "collapsed": true
   },
   "outputs": [],
   "source": [
    "def loadASE(filename): \n",
    "    file_dict = {}\n",
    "    with open(filename, \"r\") as f: \n",
    "        next(f)  #skip the first line\n",
    "        count = 0\n",
    "        for l in f:\n",
    "            count += 1\n",
    "            l = l.strip()\n",
    "            l = l.split('\\t')\n",
    "            head = '_'.join(l[:5])\n",
    "            rest = l[5:8] #is now set to include 3 replicates !!! has to be changed for more or less replicates         \n",
    "            file_dict[head] = rest\n",
    "            #print file_dict\n",
    "           \n",
    "    return file_dict \n"
   ]
  },
  {
   "cell_type": "code",
   "execution_count": 9,
   "metadata": {
    "collapsed": false
   },
   "outputs": [
    {
     "data": {
      "text/plain": [
       "1011975"
      ]
     },
     "metadata": {},
     "output_type": "display_data"
    },
    {
     "data": {
      "text/plain": [
       "984570"
      ]
     },
     "metadata": {},
     "output_type": "display_data"
    },
    {
     "data": {
      "text/plain": [
       "1013417"
      ]
     },
     "metadata": {},
     "output_type": "display_data"
    },
    {
     "data": {
      "text/plain": [
       "1189302"
      ]
     },
     "metadata": {},
     "output_type": "display_data"
    },
    {
     "data": {
      "text/plain": [
       "1189302"
      ]
     },
     "metadata": {},
     "output_type": "display_data"
    },
    {
     "name": "stdout",
     "output_type": "stream",
     "text": [
      "CPU times: user 19.9 s, sys: 396 ms, total: 20.3 s\n",
      "Wall time: 20.1 s\n"
     ]
    }
   ],
   "source": [
    "%%time\n",
    "#sync the file for each position\n",
    "\n",
    "t1 = loadASE(ASErep1)\n",
    "t2 = loadASE(ASErep2)\n",
    "t3 = loadASE(ASErep3)\n",
    "\n",
    "#python3 specific\n",
    "allpos = set(list(t1.keys()) + list(t2.keys()) + list(t3.keys()))\n",
    "\n",
    "display(len(t1), len(t2), len(t3))\n",
    "\n",
    "\n",
    "display(len(allpos))\n",
    "\n",
    "out = []\n",
    "\n",
    "#making changes to t1 - t3... how?\n",
    "\n",
    "e = 0\n",
    "for i in allpos: \n",
    "    e += 1\n",
    "    head = i.split('_')[0]\n",
    "    pos = i.split('_')[1]\n",
    "    if i in t1 or i in t2 or i in t3: \n",
    "        #if i not in defaultdict, defaultdict gets extended by item i with default value 0\n",
    "        out.append([i, t1.get(i, ['0', '0', '0']), t2.get(i, ['0', '0', '0']), t3.get(i, ['0', '0', '0'])])\n",
    "        \n",
    "display(len(out))\n",
    "#display(out)"
   ]
  },
  {
   "cell_type": "code",
   "execution_count": 10,
   "metadata": {
    "collapsed": false
   },
   "outputs": [
    {
     "name": "stdout",
     "output_type": "stream",
     "text": [
      "['Peaxi162Scf00069_1524862_._A_G', ['2', '3', '5'], ['2', '4', '6'], ['3', '5', '8']]\n",
      "Peaxi162Scf00069\t1524862\tA\tG\n"
     ]
    }
   ],
   "source": [
    "print(out[1])\n",
    "\n",
    "print('\\t'.join(out[1][0].split('_')[0:2] + out[1][0].split('_')[3:5]))"
   ]
  },
  {
   "cell_type": "code",
   "execution_count": null,
   "metadata": {
    "collapsed": false
   },
   "outputs": [],
   "source": []
  },
  {
   "cell_type": "code",
   "execution_count": 12,
   "metadata": {
    "collapsed": false
   },
   "outputs": [
    {
     "name": "stdout",
     "output_type": "stream",
     "text": [
      "Peaxi162Scf00823\t232616\tA\tT 0\t9\t9\t0\t5\t5\t1\t4\t5\n",
      "['Peaxi162Scf00823', '232616', 'A', 'T', '0', '9', '9', '0', '5', '5', '1', '4', '5']\n",
      "Peaxi162Scf00069\t1524862\tA\tG 2\t3\t5\t2\t4\t6\t3\t5\t8\n",
      "['Peaxi162Scf00069', '1524862', 'A', 'G', '2', '3', '5', '2', '4', '6', '3', '5', '8']\n",
      "Peaxi162Scf00740\t134785\tA\tG 8\t4\t12\t6\t3\t9\t9\t7\t16\n",
      "['Peaxi162Scf00740', '134785', 'A', 'G', '8', '4', '12', '6', '3', '9', '9', '7', '16']\n",
      "Peaxi162Scf00069\t1977898\tA\tT 0\t2\t2\t0\t1\t1\t0\t1\t1\n",
      "['Peaxi162Scf00069', '1977898', 'A', 'T', '0', '2', '2', '0', '1', '1', '0', '1', '1']\n",
      "Peaxi162Scf00721\t753310\tG\tC 0\t1\t1\t0\t1\t1\t0\t0\t0\n",
      "['Peaxi162Scf00721', '753310', 'G', 'C', '0', '1', '1', '0', '1', '1', '0', '0', '0']\n",
      "Peaxi162Scf00160\t1783735\tT\tC 0\t0\t0\t0\t1\t1\t0\t1\t1\n",
      "['Peaxi162Scf00160', '1783735', 'T', 'C', '0', '0', '0', '0', '1', '1', '0', '1', '1']\n",
      "Peaxi162Scf00080\t1326588\tG\tT 33\t37\t70\t17\t25\t42\t30\t40\t70\n",
      "['Peaxi162Scf00080', '1326588', 'G', 'T', '33', '37', '70', '17', '25', '42', '30', '40', '70']\n",
      "Peaxi162Scf00673\t148428\tG\tG 1\t0\t1\t0\t0\t0\t1\t0\t1\n",
      "['Peaxi162Scf00673', '148428', 'G', 'G', '1', '0', '1', '0', '0', '0', '1', '0', '1']\n",
      "Peaxi162Scf00039\t3095432\tA\tG 0\t4\t4\t0\t3\t3\t0\t1\t1\n",
      "['Peaxi162Scf00039', '3095432', 'A', 'G', '0', '4', '4', '0', '3', '3', '0', '1', '1']\n"
     ]
    }
   ],
   "source": [
    "combined_counts = []\n",
    "with open('/home/moser/RNA-seq/2015/ASE/ASE_countsF1Paxi_Pinf_limb/F1axin_combined.1mioSNP.24.01.2017.counts', \"w\") as f: \n",
    "        e = 0\n",
    "        for i in out: \n",
    "            e += 1\n",
    "            #print i\n",
    "            id_loc = '\\t'.join(i[0].split('_')[0:2] + i[0].split('_')[3:5])\n",
    "\n",
    "            counts = '\\t'.join(['\\t'.join(i[1]), '\\t'.join(i[2]) ,'\\t'.join(i[3])])\n",
    "    \n",
    "            f.write(id_loc +'\\t'+ counts + '\\n')\n",
    "            #print id_loc, counts\n",
    "            \n",
    "            li = id_loc.split('\\t')\n",
    "            li.extend(counts.split('\\t'))\n",
    "            combined_counts.append(li)\n",
    "            if e < 10: \n",
    "                print(id_loc, counts)\n",
    "                print(li)\n",
    "            "
   ]
  },
  {
   "cell_type": "code",
   "execution_count": 13,
   "metadata": {
    "collapsed": false
   },
   "outputs": [
    {
     "data": {
      "text/plain": [
       "['Peaxi162Scf00823',\n",
       " '232616',\n",
       " 'A',\n",
       " 'T',\n",
       " '0',\n",
       " '9',\n",
       " '9',\n",
       " '0',\n",
       " '5',\n",
       " '5',\n",
       " '1',\n",
       " '4',\n",
       " '5']"
      ]
     },
     "execution_count": 13,
     "metadata": {},
     "output_type": "execute_result"
    }
   ],
   "source": [
    "#IMPORTANT list to use in the next step when looking up genes matching the posistions\n",
    "combined_counts[0]"
   ]
  },
  {
   "cell_type": "markdown",
   "metadata": {},
   "source": [
    "## Assign gene positions to ASE counts: "
   ]
  },
  {
   "cell_type": "code",
   "execution_count": 14,
   "metadata": {
    "collapsed": false
   },
   "outputs": [
    {
     "data": {
      "text/plain": [
       "(35816, 4)"
      ]
     },
     "metadata": {},
     "output_type": "display_data"
    },
    {
     "data": {
      "text/html": [
       "<div>\n",
       "<table border=\"1\" class=\"dataframe\">\n",
       "  <thead>\n",
       "    <tr style=\"text-align: right;\">\n",
       "      <th></th>\n",
       "      <th>gene</th>\n",
       "      <th>sequence</th>\n",
       "      <th>first</th>\n",
       "      <th>last</th>\n",
       "    </tr>\n",
       "  </thead>\n",
       "  <tbody>\n",
       "    <tr>\n",
       "      <th>0</th>\n",
       "      <td>Peaxi162Scf00000g00013</td>\n",
       "      <td>Peaxi162Scf00000</td>\n",
       "      <td>127648</td>\n",
       "      <td>129894</td>\n",
       "    </tr>\n",
       "    <tr>\n",
       "      <th>1</th>\n",
       "      <td>Peaxi162Scf00000g01005</td>\n",
       "      <td>Peaxi162Scf00000</td>\n",
       "      <td>135977</td>\n",
       "      <td>137407</td>\n",
       "    </tr>\n",
       "    <tr>\n",
       "      <th>2</th>\n",
       "      <td>Peaxi162Scf00000g00022</td>\n",
       "      <td>Peaxi162Scf00000</td>\n",
       "      <td>186434</td>\n",
       "      <td>191458</td>\n",
       "    </tr>\n",
       "    <tr>\n",
       "      <th>3</th>\n",
       "      <td>Peaxi162Scf00000g00029</td>\n",
       "      <td>Peaxi162Scf00000</td>\n",
       "      <td>192216</td>\n",
       "      <td>196484</td>\n",
       "    </tr>\n",
       "    <tr>\n",
       "      <th>4</th>\n",
       "      <td>Peaxi162Scf00000g02011</td>\n",
       "      <td>Peaxi162Scf00000</td>\n",
       "      <td>213081</td>\n",
       "      <td>215698</td>\n",
       "    </tr>\n",
       "    <tr>\n",
       "      <th>5</th>\n",
       "      <td>Peaxi162Scf00000t00021</td>\n",
       "      <td>Peaxi162Scf00000</td>\n",
       "      <td>261986</td>\n",
       "      <td>262059</td>\n",
       "    </tr>\n",
       "    <tr>\n",
       "      <th>6</th>\n",
       "      <td>Peaxi162Scf00000g04005</td>\n",
       "      <td>Peaxi162Scf00000</td>\n",
       "      <td>441521</td>\n",
       "      <td>442286</td>\n",
       "    </tr>\n",
       "    <tr>\n",
       "      <th>7</th>\n",
       "      <td>Peaxi162Scf00000g00052</td>\n",
       "      <td>Peaxi162Scf00000</td>\n",
       "      <td>532339</td>\n",
       "      <td>535455</td>\n",
       "    </tr>\n",
       "    <tr>\n",
       "      <th>8</th>\n",
       "      <td>Peaxi162Scf00000t00051</td>\n",
       "      <td>Peaxi162Scf00000</td>\n",
       "      <td>559444</td>\n",
       "      <td>559517</td>\n",
       "    </tr>\n",
       "    <tr>\n",
       "      <th>9</th>\n",
       "      <td>Peaxi162Scf00000g00062</td>\n",
       "      <td>Peaxi162Scf00000</td>\n",
       "      <td>651984</td>\n",
       "      <td>652568</td>\n",
       "    </tr>\n",
       "  </tbody>\n",
       "</table>\n",
       "</div>"
      ],
      "text/plain": [
       "                     gene          sequence   first    last\n",
       "0  Peaxi162Scf00000g00013  Peaxi162Scf00000  127648  129894\n",
       "1  Peaxi162Scf00000g01005  Peaxi162Scf00000  135977  137407\n",
       "2  Peaxi162Scf00000g00022  Peaxi162Scf00000  186434  191458\n",
       "3  Peaxi162Scf00000g00029  Peaxi162Scf00000  192216  196484\n",
       "4  Peaxi162Scf00000g02011  Peaxi162Scf00000  213081  215698\n",
       "5  Peaxi162Scf00000t00021  Peaxi162Scf00000  261986  262059\n",
       "6  Peaxi162Scf00000g04005  Peaxi162Scf00000  441521  442286\n",
       "7  Peaxi162Scf00000g00052  Peaxi162Scf00000  532339  535455\n",
       "8  Peaxi162Scf00000t00051  Peaxi162Scf00000  559444  559517\n",
       "9  Peaxi162Scf00000g00062  Peaxi162Scf00000  651984  652568"
      ]
     },
     "metadata": {},
     "output_type": "display_data"
    },
    {
     "data": {
      "text/html": [
       "<div>\n",
       "<table border=\"1\" class=\"dataframe\">\n",
       "  <thead>\n",
       "    <tr style=\"text-align: right;\">\n",
       "      <th></th>\n",
       "      <th>gene</th>\n",
       "      <th>sequence</th>\n",
       "      <th>first</th>\n",
       "      <th>last</th>\n",
       "    </tr>\n",
       "  </thead>\n",
       "  <tbody>\n",
       "    <tr>\n",
       "      <th>25739</th>\n",
       "      <td>Peaxi162Scf00578g00014</td>\n",
       "      <td>Peaxi162Scf00578</td>\n",
       "      <td>157372</td>\n",
       "      <td>160237</td>\n",
       "    </tr>\n",
       "    <tr>\n",
       "      <th>25740</th>\n",
       "      <td>Peaxi162Scf00578g00027</td>\n",
       "      <td>Peaxi162Scf00578</td>\n",
       "      <td>211930</td>\n",
       "      <td>215818</td>\n",
       "    </tr>\n",
       "    <tr>\n",
       "      <th>25741</th>\n",
       "      <td>Peaxi162Scf00578g00317</td>\n",
       "      <td>Peaxi162Scf00578</td>\n",
       "      <td>301997</td>\n",
       "      <td>306283</td>\n",
       "    </tr>\n",
       "    <tr>\n",
       "      <th>25742</th>\n",
       "      <td>Peaxi162Scf00578g00032</td>\n",
       "      <td>Peaxi162Scf00578</td>\n",
       "      <td>353629</td>\n",
       "      <td>357094</td>\n",
       "    </tr>\n",
       "    <tr>\n",
       "      <th>25743</th>\n",
       "      <td>Peaxi162Scf00578g00316</td>\n",
       "      <td>Peaxi162Scf00578</td>\n",
       "      <td>358707</td>\n",
       "      <td>361905</td>\n",
       "    </tr>\n",
       "    <tr>\n",
       "      <th>25744</th>\n",
       "      <td>Peaxi162Scf00578g00523</td>\n",
       "      <td>Peaxi162Scf00578</td>\n",
       "      <td>518766</td>\n",
       "      <td>520026</td>\n",
       "    </tr>\n",
       "    <tr>\n",
       "      <th>25745</th>\n",
       "      <td>Peaxi162Scf00578g00525</td>\n",
       "      <td>Peaxi162Scf00578</td>\n",
       "      <td>573881</td>\n",
       "      <td>582434</td>\n",
       "    </tr>\n",
       "    <tr>\n",
       "      <th>25746</th>\n",
       "      <td>Peaxi162Scf00578g00055</td>\n",
       "      <td>Peaxi162Scf00578</td>\n",
       "      <td>524461</td>\n",
       "      <td>526467</td>\n",
       "    </tr>\n",
       "    <tr>\n",
       "      <th>25747</th>\n",
       "      <td>Peaxi162Scf00578g00526</td>\n",
       "      <td>Peaxi162Scf00578</td>\n",
       "      <td>523088</td>\n",
       "      <td>523994</td>\n",
       "    </tr>\n",
       "    <tr>\n",
       "      <th>25748</th>\n",
       "      <td>Peaxi162Scf00578g00527</td>\n",
       "      <td>Peaxi162Scf00578</td>\n",
       "      <td>540520</td>\n",
       "      <td>563495</td>\n",
       "    </tr>\n",
       "    <tr>\n",
       "      <th>25749</th>\n",
       "      <td>Peaxi162Scf00578g00528</td>\n",
       "      <td>Peaxi162Scf00578</td>\n",
       "      <td>583092</td>\n",
       "      <td>584709</td>\n",
       "    </tr>\n",
       "    <tr>\n",
       "      <th>25750</th>\n",
       "      <td>Peaxi162Scf00578g00524</td>\n",
       "      <td>Peaxi162Scf00578</td>\n",
       "      <td>533587</td>\n",
       "      <td>533986</td>\n",
       "    </tr>\n",
       "    <tr>\n",
       "      <th>25751</th>\n",
       "      <td>Peaxi162Scf00578g00068</td>\n",
       "      <td>Peaxi162Scf00578</td>\n",
       "      <td>645633</td>\n",
       "      <td>648032</td>\n",
       "    </tr>\n",
       "    <tr>\n",
       "      <th>35789</th>\n",
       "      <td>Peaxi162Scf00578g00008</td>\n",
       "      <td>Peaxi162Scf00578</td>\n",
       "      <td>88551</td>\n",
       "      <td>89754</td>\n",
       "    </tr>\n",
       "    <tr>\n",
       "      <th>35807</th>\n",
       "      <td>Peaxi162Scf00578g00007</td>\n",
       "      <td>Peaxi162Scf00578</td>\n",
       "      <td>56578</td>\n",
       "      <td>57794</td>\n",
       "    </tr>\n",
       "  </tbody>\n",
       "</table>\n",
       "</div>"
      ],
      "text/plain": [
       "                         gene          sequence   first    last\n",
       "25739  Peaxi162Scf00578g00014  Peaxi162Scf00578  157372  160237\n",
       "25740  Peaxi162Scf00578g00027  Peaxi162Scf00578  211930  215818\n",
       "25741  Peaxi162Scf00578g00317  Peaxi162Scf00578  301997  306283\n",
       "25742  Peaxi162Scf00578g00032  Peaxi162Scf00578  353629  357094\n",
       "25743  Peaxi162Scf00578g00316  Peaxi162Scf00578  358707  361905\n",
       "25744  Peaxi162Scf00578g00523  Peaxi162Scf00578  518766  520026\n",
       "25745  Peaxi162Scf00578g00525  Peaxi162Scf00578  573881  582434\n",
       "25746  Peaxi162Scf00578g00055  Peaxi162Scf00578  524461  526467\n",
       "25747  Peaxi162Scf00578g00526  Peaxi162Scf00578  523088  523994\n",
       "25748  Peaxi162Scf00578g00527  Peaxi162Scf00578  540520  563495\n",
       "25749  Peaxi162Scf00578g00528  Peaxi162Scf00578  583092  584709\n",
       "25750  Peaxi162Scf00578g00524  Peaxi162Scf00578  533587  533986\n",
       "25751  Peaxi162Scf00578g00068  Peaxi162Scf00578  645633  648032\n",
       "35789  Peaxi162Scf00578g00008  Peaxi162Scf00578   88551   89754\n",
       "35807  Peaxi162Scf00578g00007  Peaxi162Scf00578   56578   57794"
      ]
     },
     "metadata": {},
     "output_type": "display_data"
    }
   ],
   "source": [
    "#load genome annotation of interest\n",
    "\n",
    "#check for correct version of annotation\n",
    "\n",
    "gene_list = []\n",
    "\n",
    "with open(\"/home/moser/P.AXILLARIS/Peaxi162_annotation_v3.gene_models.RENAMED.gff\") as gff:\n",
    "    ei = 0\n",
    "    for i in gff: \n",
    "        if i.startswith(\"##\"): \n",
    "            continue\n",
    "        ei += 1\n",
    "        #if ei < 10: \n",
    "        #    print i\n",
    "        i = i.strip()\n",
    "        i = i.split(\"\\t\")\n",
    "        if i[2] != \"gene\":\n",
    "            continue\n",
    "        #gene = []\n",
    "        #gene.append(i[0])\n",
    "        #gene.append(i[3:5])\n",
    "        \n",
    "        gene_name = i[8].split(\";\")[0][3:]\n",
    "        \n",
    "        gene_list.append([gene_name, i[0], int(i[3]), int(i[4])])\n",
    "        \n",
    "gene_df = pd.DataFrame(gene_list, columns=['gene', 'sequence', 'first', 'last'])\n",
    "display(gene_df.shape)\n",
    "display(gene_df.head(10))\n",
    "display(gene_df.loc[gene_df[\"sequence\"]==\"Peaxi162Scf00578\"])"
   ]
  },
  {
   "cell_type": "code",
   "execution_count": 15,
   "metadata": {
    "collapsed": false
   },
   "outputs": [
    {
     "name": "stdout",
     "output_type": "stream",
     "text": [
      "14601 * 10K processed...\n",
      "29337 * 10K processed...\n",
      "44122 * 10K processed...\n",
      "58825 * 10K processed...\n",
      "73479 * 10K processed...\n",
      "88179 * 10K processed...\n",
      "102837 * 10K processed...\n",
      "117527 * 10K processed...\n",
      "132219 * 10K processed...\n",
      "146857 * 10K processed...\n",
      "161514 * 10K processed...\n",
      "176262 * 10K processed...\n",
      "191047 * 10K processed...\n",
      "205576 * 10K processed...\n",
      "220293 * 10K processed...\n",
      "234995 * 10K processed...\n",
      "249566 * 10K processed...\n",
      "264298 * 10K processed...\n",
      "278985 * 10K processed...\n",
      "293836 * 10K processed...\n",
      "308502 * 10K processed...\n",
      "323200 * 10K processed...\n",
      "337953 * 10K processed...\n",
      "352652 * 10K processed...\n",
      "367323 * 10K processed...\n",
      "381771 * 10K processed...\n",
      "396498 * 10K processed...\n",
      "411324 * 10K processed...\n",
      "425911 * 10K processed...\n",
      "440636 * 10K processed...\n",
      "455294 * 10K processed...\n",
      "469839 * 10K processed...\n",
      "484636 * 10K processed...\n",
      "499168 * 10K processed...\n",
      "513695 * 10K processed...\n",
      "528487 * 10K processed...\n",
      "543171 * 10K processed...\n",
      "557691 * 10K processed...\n",
      "572433 * 10K processed...\n",
      "587015 * 10K processed...\n",
      "601704 * 10K processed...\n",
      "616338 * 10K processed...\n",
      "631026 * 10K processed...\n",
      "645805 * 10K processed...\n",
      "660574 * 10K processed...\n",
      "675220 * 10K processed...\n",
      "690043 * 10K processed...\n",
      "704831 * 10K processed...\n",
      "719588 * 10K processed...\n",
      "734256 * 10K processed...\n",
      "748883 * 10K processed...\n",
      "763517 * 10K processed...\n",
      "778256 * 10K processed...\n",
      "792903 * 10K processed...\n",
      "807749 * 10K processed...\n",
      "822410 * 10K processed...\n",
      "837073 * 10K processed...\n",
      "851774 * 10K processed...\n",
      "866396 * 10K processed...\n",
      "881146 * 10K processed...\n",
      "895813 * 10K processed...\n",
      "910515 * 10K processed...\n",
      "925240 * 10K processed...\n",
      "939947 * 10K processed...\n",
      "954523 * 10K processed...\n",
      "969348 * 10K processed...\n",
      "984009 * 10K processed...\n",
      "998642 * 10K processed...\n",
      "1013247 * 10K processed...\n",
      "1027954 * 10K processed...\n",
      "1042808 * 10K processed...\n",
      "1057426 * 10K processed...\n",
      "1072197 * 10K processed...\n",
      "1086940 * 10K processed...\n",
      "1101726 * 10K processed...\n",
      "1116531 * 10K processed...\n",
      "1131207 * 10K processed...\n",
      "1146053 * 10K processed...\n",
      "1160627 * 10K processed...\n",
      "1175214 * 10K processed...\n",
      "809659\n",
      "CPU times: user 1h 44min 15s, sys: 11.8 s, total: 1h 44min 27s\n",
      "Wall time: 1h 44min 33s\n"
     ]
    }
   ],
   "source": [
    "%%time\n",
    "\n",
    "#write to output\n",
    "\n",
    "#what does positions look like?\n",
    "c = 0\n",
    "k = 0\n",
    "with open('/home/moser/RNA-seq/2015/ASE/ASE_countsF1Paxi_Pinf_limb/F1axin_combined.1mioSNP.24.12.2016.v3162.counts', 'w') as outf: \n",
    "    for e, i in enumerate(combined_counts):\n",
    "        #print e, i\n",
    "    \n",
    "    \n",
    "        #only SNPs within gene annotations get printed to file\n",
    "        result = gene_df.loc[(gene_df[\"sequence\"] == i[0])&(gene_df[\"first\"] <= int(i[1]))&(gene_df[\"last\"] >= int(i[1]))]\n",
    "        \n",
    "        rest = 0\n",
    "        \n",
    "        #display(gene_df.loc[gene_df['gene'] == result])\n",
    "        if result.shape[0] > 0:\n",
    "            c += 1\n",
    "            stringo = '\\t'.join(i)\n",
    "            res = '\\t'.join([str(result.values[0][i]) for i in (0,2,3)])\n",
    "\n",
    "            fin = res + '\\t' + stringo + '\\n'\n",
    "            #print stringo, res\n",
    "            outf.write(fin)\n",
    "            if c % 10000 == 0:\n",
    "                k += 1\n",
    "                print(str(k) + ' * 10K processed...')\n",
    "        \n",
    "print(c)\n",
    "\n",
    "#optimize for runtime!!!\n",
    "\n",
    "#afterwards, sort with \"$bedtools sort -i ...v3162.counts\" to not mix up SNPs when treated in R"
   ]
  },
  {
   "cell_type": "code",
   "execution_count": null,
   "metadata": {
    "collapsed": true
   },
   "outputs": [],
   "source": []
  }
 ],
 "metadata": {
  "anaconda-cloud": {},
  "kernelspec": {
   "display_name": "Python 2",
   "language": "python",
   "name": "python2"
  },
  "language_info": {
   "codemirror_mode": {
    "name": "ipython",
    "version": 2
   },
   "file_extension": ".py",
   "mimetype": "text/x-python",
   "name": "python",
   "nbconvert_exporter": "python",
   "pygments_lexer": "ipython2",
   "version": "2.7.13"
  }
 },
 "nbformat": 4,
 "nbformat_minor": 0
}
